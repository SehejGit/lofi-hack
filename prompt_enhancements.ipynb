{
 "cells": [
  {
   "cell_type": "code",
   "execution_count": 1,
   "metadata": {},
   "outputs": [
    {
     "data": {
      "text/html": [
       "<div>\n",
       "<style scoped>\n",
       "    .dataframe tbody tr th:only-of-type {\n",
       "        vertical-align: middle;\n",
       "    }\n",
       "\n",
       "    .dataframe tbody tr th {\n",
       "        vertical-align: top;\n",
       "    }\n",
       "\n",
       "    .dataframe thead th {\n",
       "        text-align: right;\n",
       "    }\n",
       "</style>\n",
       "<table border=\"1\" class=\"dataframe\">\n",
       "  <thead>\n",
       "    <tr style=\"text-align: right;\">\n",
       "      <th></th>\n",
       "      <th>prompt</th>\n",
       "    </tr>\n",
       "  </thead>\n",
       "  <tbody>\n",
       "    <tr>\n",
       "      <th>0</th>\n",
       "      <td>Exploring the world of quantum computing</td>\n",
       "    </tr>\n",
       "    <tr>\n",
       "      <th>1</th>\n",
       "      <td>Jaw bone lo-fi for energetic expressions</td>\n",
       "    </tr>\n",
       "    <tr>\n",
       "      <th>2</th>\n",
       "      <td>Uplifting lo-fi for retirement home celebrations</td>\n",
       "    </tr>\n",
       "    <tr>\n",
       "      <th>3</th>\n",
       "      <td>Calm lo-fi for meditation sessions</td>\n",
       "    </tr>\n",
       "    <tr>\n",
       "      <th>4</th>\n",
       "      <td>Anime shopping mall lo-fi for retail therapy</td>\n",
       "    </tr>\n",
       "  </tbody>\n",
       "</table>\n",
       "</div>"
      ],
      "text/plain": [
       "                                             prompt\n",
       "0          Exploring the world of quantum computing\n",
       "1          Jaw bone lo-fi for energetic expressions\n",
       "2  Uplifting lo-fi for retirement home celebrations\n",
       "3                Calm lo-fi for meditation sessions\n",
       "4      Anime shopping mall lo-fi for retail therapy"
      ]
     },
     "execution_count": 1,
     "metadata": {},
     "output_type": "execute_result"
    }
   ],
   "source": [
    "import pandas as pd\n",
    "\n",
    "df = pd.read_csv('lofi_prompts.csv')\n",
    "df.head()"
   ]
  },
  {
   "cell_type": "code",
   "execution_count": 2,
   "metadata": {},
   "outputs": [
    {
     "name": "stderr",
     "output_type": "stream",
     "text": [
      "/Users/sehej/Desktop/projects/.conda/lib/python3.10/site-packages/tqdm/auto.py:21: TqdmWarning: IProgress not found. Please update jupyter and ipywidgets. See https://ipywidgets.readthedocs.io/en/stable/user_install.html\n",
      "  from .autonotebook import tqdm as notebook_tqdm\n"
     ]
    }
   ],
   "source": [
    "from sentence_transformers import SentenceTransformer\n",
    "from sklearn.metrics.pairwise import cosine_similarity"
   ]
  },
  {
   "cell_type": "code",
   "execution_count": 3,
   "metadata": {},
   "outputs": [],
   "source": [
    "import re\n",
    "\n",
    "def extract_keywords(text):\n",
    "    \"\"\"\n",
    "    Extract meaningful keywords from a prompt.\n",
    "    Removes common stopwords and keeps adjectives, verbs, and nouns.\n",
    "    \"\"\"\n",
    "    # Convert to lowercase and remove special characters\n",
    "    text = re.sub(r\"[^a-zA-Z\\s]\", \"\", text.lower())\n",
    "\n",
    "    # Remove common words (basic stopword filtering)\n",
    "    stopwords = set([\"lofi\", \"for\", \"the\", \"a\", \"and\", \"to\", \"in\", \"on\", \"with\", \"of\", \"beat\", \"track\", \"music\"])\n",
    "    keywords = [word for word in text.split() if word not in stopwords]\n",
    "\n",
    "    return keywords\n",
    "\n",
    "# Extract keywords from each prompt in the dataset\n",
    "df[\"keywords\"] = df[\"prompt\"].apply(extract_keywords)"
   ]
  },
  {
   "cell_type": "code",
   "execution_count": 4,
   "metadata": {},
   "outputs": [
    {
     "data": {
      "text/html": [
       "<div>\n",
       "<style scoped>\n",
       "    .dataframe tbody tr th:only-of-type {\n",
       "        vertical-align: middle;\n",
       "    }\n",
       "\n",
       "    .dataframe tbody tr th {\n",
       "        vertical-align: top;\n",
       "    }\n",
       "\n",
       "    .dataframe thead th {\n",
       "        text-align: right;\n",
       "    }\n",
       "</style>\n",
       "<table border=\"1\" class=\"dataframe\">\n",
       "  <thead>\n",
       "    <tr style=\"text-align: right;\">\n",
       "      <th></th>\n",
       "      <th>prompt</th>\n",
       "      <th>keywords</th>\n",
       "    </tr>\n",
       "  </thead>\n",
       "  <tbody>\n",
       "    <tr>\n",
       "      <th>0</th>\n",
       "      <td>Exploring the world of quantum computing</td>\n",
       "      <td>[exploring, world, quantum, computing]</td>\n",
       "    </tr>\n",
       "    <tr>\n",
       "      <th>1</th>\n",
       "      <td>Jaw bone lo-fi for energetic expressions</td>\n",
       "      <td>[jaw, bone, energetic, expressions]</td>\n",
       "    </tr>\n",
       "    <tr>\n",
       "      <th>2</th>\n",
       "      <td>Uplifting lo-fi for retirement home celebrations</td>\n",
       "      <td>[uplifting, retirement, home, celebrations]</td>\n",
       "    </tr>\n",
       "    <tr>\n",
       "      <th>3</th>\n",
       "      <td>Calm lo-fi for meditation sessions</td>\n",
       "      <td>[calm, meditation, sessions]</td>\n",
       "    </tr>\n",
       "    <tr>\n",
       "      <th>4</th>\n",
       "      <td>Anime shopping mall lo-fi for retail therapy</td>\n",
       "      <td>[anime, shopping, mall, retail, therapy]</td>\n",
       "    </tr>\n",
       "    <tr>\n",
       "      <th>...</th>\n",
       "      <td>...</td>\n",
       "      <td>...</td>\n",
       "    </tr>\n",
       "    <tr>\n",
       "      <th>495</th>\n",
       "      <td>Zen sand painting lo-fi with calming designs</td>\n",
       "      <td>[zen, sand, painting, calming, designs]</td>\n",
       "    </tr>\n",
       "    <tr>\n",
       "      <th>496</th>\n",
       "      <td>Beldum's thunder punch lo-fi for electro-magne...</td>\n",
       "      <td>[beldums, thunder, punch, electromagnetic, ene...</td>\n",
       "    </tr>\n",
       "    <tr>\n",
       "      <th>497</th>\n",
       "      <td>Zen kokedama lo-fi with moss balls</td>\n",
       "      <td>[zen, kokedama, moss, balls]</td>\n",
       "    </tr>\n",
       "    <tr>\n",
       "      <th>498</th>\n",
       "      <td>Relaxing guitar lo-fi for therapeutic sessions</td>\n",
       "      <td>[relaxing, guitar, therapeutic, sessions]</td>\n",
       "    </tr>\n",
       "    <tr>\n",
       "      <th>499</th>\n",
       "      <td>Seagull soar lo-fi for sea spray saltiness</td>\n",
       "      <td>[seagull, soar, sea, spray, saltiness]</td>\n",
       "    </tr>\n",
       "  </tbody>\n",
       "</table>\n",
       "<p>500 rows × 2 columns</p>\n",
       "</div>"
      ],
      "text/plain": [
       "                                                prompt  \\\n",
       "0             Exploring the world of quantum computing   \n",
       "1             Jaw bone lo-fi for energetic expressions   \n",
       "2     Uplifting lo-fi for retirement home celebrations   \n",
       "3                   Calm lo-fi for meditation sessions   \n",
       "4         Anime shopping mall lo-fi for retail therapy   \n",
       "..                                                 ...   \n",
       "495       Zen sand painting lo-fi with calming designs   \n",
       "496  Beldum's thunder punch lo-fi for electro-magne...   \n",
       "497                 Zen kokedama lo-fi with moss balls   \n",
       "498     Relaxing guitar lo-fi for therapeutic sessions   \n",
       "499         Seagull soar lo-fi for sea spray saltiness   \n",
       "\n",
       "                                              keywords  \n",
       "0               [exploring, world, quantum, computing]  \n",
       "1                  [jaw, bone, energetic, expressions]  \n",
       "2          [uplifting, retirement, home, celebrations]  \n",
       "3                         [calm, meditation, sessions]  \n",
       "4             [anime, shopping, mall, retail, therapy]  \n",
       "..                                                 ...  \n",
       "495            [zen, sand, painting, calming, designs]  \n",
       "496  [beldums, thunder, punch, electromagnetic, ene...  \n",
       "497                       [zen, kokedama, moss, balls]  \n",
       "498          [relaxing, guitar, therapeutic, sessions]  \n",
       "499             [seagull, soar, sea, spray, saltiness]  \n",
       "\n",
       "[500 rows x 2 columns]"
      ]
     },
     "execution_count": 4,
     "metadata": {},
     "output_type": "execute_result"
    }
   ],
   "source": [
    "df"
   ]
  },
  {
   "cell_type": "code",
   "execution_count": 7,
   "metadata": {},
   "outputs": [
    {
     "name": "stdout",
     "output_type": "stream",
     "text": [
      "Suggested words: ['Enigmatic Theremin lo-fi with rain drops', 'Dust Bowl dry spell lo-fi for devastating dust storm aftermath', 'Comforting lo-fi for night time']\n"
     ]
    }
   ],
   "source": [
    "\n",
    "\n",
    "# Embed all dataset prompts\n",
    "# Ensure you're selecting the correct column (e.g., 'prompt')\n",
    "prompt_texts = df[\"prompt\"].tolist()  # Convert column to list of strings\n",
    "\n",
    "# Encode the text prompts\n",
    "model = SentenceTransformer(\"all-MiniLM-L6-v2\")\n",
    "prompt_embeddings = model.encode(prompt_texts)  # Now it should work!\n",
    "\n",
    "def suggest_better_words(user_prompt, df, top_n=3):\n",
    "    \"\"\"Suggests better descriptive words for a given prompt.\"\"\"\n",
    "    \n",
    "    # Load embedding model\n",
    "    model = SentenceTransformer(\"all-MiniLM-L6-v2\")\n",
    "\n",
    "    # Ensure 'prompt' column exists\n",
    "    if \"prompt\" not in df.columns:\n",
    "        raise ValueError(\"Dataset must have a 'prompt' column.\")\n",
    "\n",
    "    # Convert dataset prompts into embeddings\n",
    "    prompt_texts = df[\"prompt\"].tolist()  # Convert column to list\n",
    "    prompt_embeddings = model.encode(prompt_texts)  # Embed dataset prompts\n",
    "\n",
    "    # Embed user's prompt\n",
    "    user_embedding = model.encode([user_prompt])\n",
    "\n",
    "    # Compute cosine similarity\n",
    "    similarities = cosine_similarity(user_embedding, prompt_embeddings)[0]\n",
    "\n",
    "    # Get top N most similar prompts\n",
    "    top_indices = similarities.argsort()[-top_n:][::-1]\n",
    "    recommended_words = [prompt_texts[i] for i in top_indices]\n",
    "\n",
    "    return recommended_words\n",
    "\n",
    "# Example usage:\n",
    "suggestions = suggest_better_words(\"rainy day lofi beat\", df)\n",
    "print(\"Suggested words:\", suggestions)"
   ]
  },
  {
   "cell_type": "code",
   "execution_count": 8,
   "metadata": {},
   "outputs": [
    {
     "data": {
      "text/plain": [
       "['Windy seaside lo-fi with gentle waves',\n",
       " 'Seaside contemplation lo-fi with gentle waves',\n",
       " 'Uplifting violin lo-fi for sunny spring vibes']"
      ]
     },
     "execution_count": 8,
     "metadata": {},
     "output_type": "execute_result"
    }
   ],
   "source": [
    "suggest_better_words('beach day vibe', df)"
   ]
  },
  {
   "cell_type": "code",
   "execution_count": null,
   "metadata": {},
   "outputs": [],
   "source": []
  }
 ],
 "metadata": {
  "kernelspec": {
   "display_name": "Python 3",
   "language": "python",
   "name": "python3"
  },
  "language_info": {
   "codemirror_mode": {
    "name": "ipython",
    "version": 3
   },
   "file_extension": ".py",
   "mimetype": "text/x-python",
   "name": "python",
   "nbconvert_exporter": "python",
   "pygments_lexer": "ipython3",
   "version": "3.10.16"
  }
 },
 "nbformat": 4,
 "nbformat_minor": 2
}
